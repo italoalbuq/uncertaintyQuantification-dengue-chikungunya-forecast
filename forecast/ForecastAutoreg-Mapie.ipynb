{
 "cells": [
  {
   "cell_type": "code",
   "execution_count": 1,
   "id": "a1b49086",
   "metadata": {
    "colab": {
     "base_uri": "https://localhost:8080/"
    },
    "id": "a1b49086",
    "outputId": "faf66933-18f8-4969-c914-b91eb3c517e3"
   },
   "outputs": [],
   "source": [
    "import numpy as np\n",
    "import pandas as pd\n",
    "\n",
    "# Plots\n",
    "import matplotlib.pyplot as plt\n",
    "from matplotlib.dates import DateFormatter, AutoDateLocator\n",
    "plt.style.use('fivethirtyeight')\n",
    "plt.rcParams['lines.linewidth'] = 1.5\n",
    "plt.rcParams['font.size'] = 10\n",
    "\n",
    "# Modeling and Forecasting\n",
    "from sklearn.ensemble import RandomForestRegressor\n",
    "from sklearn.metrics import mean_squared_error\n",
    "from skforecast.ForecasterAutoreg import ForecasterAutoreg\n",
    "from mapie.regression import MapieTimeSeriesRegressor\n",
    "\n",
    "# Warnings configuration\n",
    "import warnings\n",
    "warnings.filterwarnings('ignore')\n",
    "warnings.simplefilter(\"ignore\")"
   ]
  },
  {
   "cell_type": "code",
   "execution_count": 2,
   "id": "ee0c19ee",
   "metadata": {},
   "outputs": [],
   "source": [
    "# Leitura dos Dados\n",
    "\n",
    "df_bf = pd.read_excel('Botafogo-2015-2023_Semanal_Dengue.xlsx')\n",
    "df_cd = pd.read_excel('CidadeDeDeus-2015-2023_Semanal_Dengue.xlsx')\n",
    "df_cp = pd.read_excel('Copacabana-2015-2023_Semanal_Dengue.xlsx')\n",
    "df_ed = pd.read_excel('EngenhoDeDentro-2015-2023_Semanal_Dengue.xlsx')\n",
    "df_ip = pd.read_excel('Ipanema-2015-2023_Semanal_Dengue.xlsx')\n",
    "df_lj = pd.read_excel('Laranjeiras-2015-2023_Semanal_Dengue.xlsx')\n",
    "df_mc = pd.read_excel('Maracana-2015-2023_Semanal_Dengue.xlsx')\n",
    "df_rc = pd.read_excel('Rocinha-2015-2023_Semanal_Dengue.xlsx')\n",
    "df_vm = pd.read_excel('VilaMilitar-2015-2023_Semanal_Dengue.xlsx')\n",
    "df_rl = pd.read_excel('Realengo-2015-2023_Semanal_Dengue.xlsx')"
   ]
  },
  {
   "cell_type": "code",
   "execution_count": 3,
   "id": "9b9e7710",
   "metadata": {},
   "outputs": [],
   "source": [
    "# Definir a coluna de datas como índice e garantir o tipo datetime\n",
    "def prepare_dataframe(df):\n",
    "    df['data'] = pd.to_datetime(df['data'], format='%Y-%m-%d')\n",
    "    df.set_index('data', inplace=True)\n",
    "    return df"
   ]
  },
  {
   "cell_type": "code",
   "execution_count": 4,
   "id": "3610335a",
   "metadata": {
    "id": "3610335a"
   },
   "outputs": [],
   "source": [
    "# Concatenação dos dados\n",
    "\n",
    "dataframes = [prepare_dataframe(df) for df in [df_bf, df_cd, df_cp, df_ed, df_ip, df_lj, df_mc, df_rc, df_vm, df_rl]]\n",
    "data = pd.concat(dataframes)"
   ]
  },
  {
   "cell_type": "code",
   "execution_count": 5,
   "id": "939d1159",
   "metadata": {},
   "outputs": [],
   "source": [
    "# OneHotEncoder na coluna Bairro\n",
    "data = pd.get_dummies(data, columns=['bairro'])"
   ]
  },
  {
   "cell_type": "code",
   "execution_count": 6,
   "id": "gy8NeOFJX0-p",
   "metadata": {
    "id": "gy8NeOFJX0-p"
   },
   "outputs": [],
   "source": [
    "# Variáveis Exógenas\n",
    "exg = ['chuva', 'temperaturaMedia', 'temperaturaMaxima','temperaturaMinima', 'direcaoVento',\n",
    "       'velocidadeVento', 'pressaoAtmosferica', 'semana','bairro_Botafogo',\n",
    "       'bairro_Cidade de Deus', 'bairro_Copacabana',\n",
    "       'bairro_Engenho de Dentro', 'bairro_Ipanema', 'bairro_Laranjeiras',\n",
    "       'bairro_Maracana', 'bairro_Realengo', 'bairro_Rocinha',\n",
    "       'bairro_Vila Militar']"
   ]
  },
  {
   "cell_type": "code",
   "execution_count": 7,
   "id": "5872bd11",
   "metadata": {
    "id": "5872bd11"
   },
   "outputs": [],
   "source": [
    "data.sort_index(inplace=True)\n",
    "\n",
    "# Manter uma cópia dos dados com índice de datas\n",
    "data_with_dates = data.copy()\n",
    "\n",
    "# Resetar o índice para a previsão autorregressiva\n",
    "data.reset_index(drop=True, inplace=True)"
   ]
  },
  {
   "cell_type": "code",
   "execution_count": 8,
   "id": "5ab0ee86",
   "metadata": {
    "colab": {
     "base_uri": "https://localhost:8080/"
    },
    "id": "5ab0ee86",
    "outputId": "27d17247-e893-4b10-fb94-2cd6505128bb"
   },
   "outputs": [
    {
     "name": "stdout",
     "output_type": "stream",
     "text": [
      "Train dates : 2015-01-04 00:00:00 --- 2021-12-26 00:00:00  (n=3650)\n",
      "Test dates  : 2022-01-02 00:00:00 --- 2023-12-31 00:00:00  (n=1050)\n"
     ]
    }
   ],
   "source": [
    "# Split dos dados - train-test\n",
    "steps = 1050\n",
    "data_train = data[:-steps]\n",
    "data_test  = data[-steps:]\n",
    "\n",
    "data_train_dates = data_with_dates.iloc[:-steps]\n",
    "data_test_dates  = data_with_dates.iloc[-steps:]\n",
    "\n",
    "print(f\"Train dates : {data_train_dates.index.min()} --- {data_train_dates.index.max()}  (n={len(data_train_dates)})\")\n",
    "print(f\"Test dates  : {data_test_dates.index.min()} --- {data_test_dates.index.max()}  (n={len(data_test_dates)})\")"
   ]
  },
  {
   "cell_type": "markdown",
   "id": "c8af423e",
   "metadata": {},
   "source": [
    "# PREVISÃO AUTORREGRESSIVA"
   ]
  },
  {
   "cell_type": "code",
   "execution_count": 9,
   "id": "873e7e73",
   "metadata": {
    "colab": {
     "base_uri": "https://localhost:8080/"
    },
    "id": "873e7e73",
    "outputId": "c06588ab-296e-4ebc-ef2d-d5d43dcdc1b3",
    "scrolled": true
   },
   "outputs": [],
   "source": [
    "# Previsão Autorregressiva\n",
    "forecaster = ForecasterAutoreg(\n",
    "                regressor = RandomForestRegressor(random_state=123),\n",
    "                lags      = 80\n",
    "             )\n",
    "\n",
    "forecaster.fit(y=data_train['dengueChikungunya'], exog=data_train[exg])\n",
    "\n",
    "predictions = forecaster.predict(steps=steps, exog=data_test[exg])"
   ]
  },
  {
   "cell_type": "code",
   "execution_count": 10,
   "id": "904d4004",
   "metadata": {},
   "outputs": [
    {
     "data": {
      "image/png": "[encoded data removed]",
      "text/plain": [
       "<Figure size 700x250 with 1 Axes>"
      ]
     },
     "metadata": {},
     "output_type": "display_data"
    }
   ],
   "source": [
    "fig, ax = plt.subplots(figsize=(7, 2.5))\n",
    "\n",
    "data_train_dates['dengueChikungunya'].plot(ax=ax, label='Treino')\n",
    "data_test_dates['dengueChikungunya'].plot(ax=ax, label='Teste')\n",
    "predictions.index = data_test_dates.index \n",
    "predictions.plot(ax=ax, label='Previsão')\n",
    "\n",
    "ax.xaxis.set_major_locator(AutoDateLocator())\n",
    "ax.xaxis.set_major_formatter(DateFormatter('%Y'))\n",
    "ax.set_xlabel('') \n",
    "ax.legend()\n",
    "plt.xticks(rotation=45)\n",
    "plt.show()\n"
   ]
  },
  {
   "cell_type": "code",
   "execution_count": 11,
   "id": "882332dd",
   "metadata": {
    "colab": {
     "base_uri": "https://localhost:8080/",
     "height": 258
    },
    "id": "882332dd",
    "outputId": "801df316-3b9b-4c71-ff29-b531d27ac594"
   },
   "outputs": [
    {
     "name": "stdout",
     "output_type": "stream",
     "text": [
      "Test error (mse): 14.139712952380952\n"
     ]
    }
   ],
   "source": [
    "# Test error\n",
    "error_mse = mean_squared_error(\n",
    "                y_true = data_test['dengueChikungunya'],\n",
    "                y_pred = predictions\n",
    "            )\n",
    "\n",
    "print(f\"Test error (mse): {error_mse}\")"
   ]
  },
  {
   "cell_type": "code",
   "execution_count": 12,
   "id": "62443b03",
   "metadata": {},
   "outputs": [],
   "source": [
    "predictions_interval = forecaster.predict_interval(\n",
    "                    steps = steps,\n",
    "                    interval = [5, 95],\n",
    "                    n_boot   = 500,\n",
    "                    exog=data_test[exg]\n",
    "              )"
   ]
  },
  {
   "cell_type": "code",
   "execution_count": 13,
   "id": "c98a6043",
   "metadata": {},
   "outputs": [
    {
     "data": {
      "image/png": "[encoded data removed]",
      "text/plain": [
       "<Figure size 700x250 with 1 Axes>"
      ]
     },
     "metadata": {},
     "output_type": "display_data"
    }
   ],
   "source": [
    "predictions.index = data_test_dates.index\n",
    "predictions_interval.index = data_test_dates.index\n",
    "\n",
    "fig, ax = plt.subplots(figsize=(7, 2.5))\n",
    "data_test_dates['dengueChikungunya'].plot(ax=ax, label='Valores Reais', color='blue')\n",
    "predictions.plot(ax=ax, label='Previsão', color='green')\n",
    "ax.fill_between(\n",
    "    predictions_interval.index,\n",
    "    np.maximum(predictions_interval['lower_bound'], 0),\n",
    "    predictions_interval['upper_bound'],\n",
    "    color = 'red',\n",
    "    alpha = 0.2,\n",
    "    label='Intervalo de Confiança'\n",
    ")\n",
    "\n",
    "ax.xaxis.set_major_locator(AutoDateLocator())\n",
    "ax.xaxis.set_major_formatter(DateFormatter('%Y-%m'))\n",
    "\n",
    "plt.xticks(rotation=45)\n",
    "\n",
    "ax.set_xlabel('')\n",
    "\n",
    "ax.legend()\n",
    "plt.show()\n"
   ]
  },
  {
   "cell_type": "code",
   "execution_count": 14,
   "id": "cd457968",
   "metadata": {},
   "outputs": [
    {
     "name": "stdout",
     "output_type": "stream",
     "text": [
      "Cobertura do Intervalo de Confiança: 25.43%\n"
     ]
    }
   ],
   "source": [
    "# Obter limites inferiores e superiores dos intervalos de confiança\n",
    "lower_bound = predictions_interval['lower_bound']\n",
    "upper_bound = predictions_interval['upper_bound']\n",
    "\n",
    "# Valores reais\n",
    "true_values = data_test_dates['dengueChikungunya']  # Usar o dataframe com as datas para manter o índice de data\n",
    "\n",
    "# Alinhar os índices para garantir compatibilidade\n",
    "true_values, lower_bound = true_values.align(lower_bound, join='inner')\n",
    "true_values, upper_bound = true_values.align(upper_bound, join='inner')\n",
    "\n",
    "# Verificar se os valores reais estão dentro dos intervalos\n",
    "within_interval = (true_values >= lower_bound) & (true_values <= upper_bound)\n",
    "\n",
    "# Calcular a cobertura como a proporção de valores dentro do intervalo\n",
    "coverage = within_interval.sum() / len(true_values)\n",
    "\n",
    "print(f'Cobertura do Intervalo de Confiança: {coverage:.2%}')"
   ]
  },
  {
   "cell_type": "code",
   "execution_count": 15,
   "id": "8fd289c7",
   "metadata": {},
   "outputs": [
    {
     "name": "stdout",
     "output_type": "stream",
     "text": [
      "MSE do modelo autorregressivo: 14.14\n",
      "MSE usando a média do conjunto de treino como previsão: 17.35\n",
      "O modelo autorregressivo performa melhor do que usar a média do conjunto de treino como previsão.\n"
     ]
    }
   ],
   "source": [
    "# Calcular a média dos valores de dengueChikungunya no conjunto de treino\n",
    "train_mean = data_train['dengueChikungunya'].mean()\n",
    "\n",
    "# Criar previsões constantes usando a média do treino para o conjunto de teste\n",
    "constant_predictions = np.full(len(data_test), train_mean)\n",
    "\n",
    "# Calcular o MSE usando a média como previsão constante\n",
    "mse_constant = mean_squared_error(data_test['dengueChikungunya'], constant_predictions)\n",
    "\n",
    "print(f\"MSE do modelo autorregressivo: {error_mse:.2f}\")\n",
    "print(f\"MSE usando a média do conjunto de treino como previsão: {mse_constant:.2f}\")\n",
    "\n",
    "# Comparação dos resultados\n",
    "if error_mse < mse_constant:\n",
    "    print(\"O modelo autorregressivo performa melhor do que usar a média do conjunto de treino como previsão.\")\n",
    "else:\n",
    "    print(\"Usar a média do conjunto de treino como previsão performa similarmente ou melhor do que o modelo autorregressivo.\")"
   ]
  },
  {
   "cell_type": "markdown",
   "id": "c37f1d8c",
   "metadata": {},
   "source": [
    "## Analise por Bairro - Autorreg"
   ]
  },
  {
   "cell_type": "code",
   "execution_count": 16,
   "id": "058b6e90",
   "metadata": {},
   "outputs": [],
   "source": [
    "predictions.index = data_test_dates.index\n",
    "\n",
    "bairros = ['Botafogo', 'Cidade de Deus', 'Copacabana', 'Engenho de Dentro', \n",
    "           'Ipanema', 'Laranjeiras', 'Maracana', 'Realengo', 'Rocinha', 'Vila Militar']\n",
    "\n",
    "mse_por_bairro = {}"
   ]
  },
  {
   "cell_type": "code",
   "execution_count": 17,
   "id": "136e626d",
   "metadata": {},
   "outputs": [],
   "source": [
    "for bairro in bairros:\n",
    "    # Filtrar valores reais e previsões para o bairro específico\n",
    "    mask = data_test_dates[f'bairro_{bairro}'] == 1\n",
    "    real_values = data_test_dates.loc[mask, 'dengueChikungunya']\n",
    "    predicted_values = predictions[mask]\n",
    "    \n",
    "    # Calcular o MSE para o bairro\n",
    "    mse = mean_squared_error(y_true=real_values, y_pred=predicted_values)\n",
    "    \n",
    "    mse_por_bairro[bairro] = mse"
   ]
  },
  {
   "cell_type": "code",
   "execution_count": 18,
   "id": "26c7df84",
   "metadata": {},
   "outputs": [
    {
     "name": "stdout",
     "output_type": "stream",
     "text": [
      "Botafogo: MSE = 2.6934799999999997\n",
      "Cidade de Deus: MSE = 7.232664761904761\n",
      "Copacabana: MSE = 21.761748571428573\n",
      "Engenho de Dentro: MSE = 12.374698095238095\n",
      "Ipanema: MSE = 1.4139761904761905\n",
      "Laranjeiras: MSE = 3.929053333333333\n",
      "Maracana: MSE = 2.4135942857142862\n",
      "Realengo: MSE = 66.76040857142857\n",
      "Rocinha: MSE = 21.912141904761903\n",
      "Vila Militar: MSE = 0.9053638095238096\n"
     ]
    }
   ],
   "source": [
    "# Exibir os MSEs por bairro\n",
    "for bairro, mse in mse_por_bairro.items():\n",
    "    print(f\"{bairro}: MSE = {mse}\")"
   ]
  },
  {
   "cell_type": "code",
   "execution_count": 19,
   "id": "0e9c49fa",
   "metadata": {},
   "outputs": [
    {
     "name": "stdout",
     "output_type": "stream",
     "text": [
      "Botafogo: Cobertura do intervalo de confiança = 29.52%\n",
      "Cidade de Deus: Cobertura do intervalo de confiança = 9.52%\n",
      "Copacabana: Cobertura do intervalo de confiança = 40.00%\n",
      "Engenho de Dentro: Cobertura do intervalo de confiança = 34.29%\n",
      "Ipanema: Cobertura do intervalo de confiança = 20.95%\n",
      "Laranjeiras: Cobertura do intervalo de confiança = 30.48%\n",
      "Maracana: Cobertura do intervalo de confiança = 18.10%\n",
      "Realengo: Cobertura do intervalo de confiança = 6.67%\n",
      "Rocinha: Cobertura do intervalo de confiança = 33.33%\n",
      "Vila Militar: Cobertura do intervalo de confiança = 31.43%\n"
     ]
    }
   ],
   "source": [
    "# Garantir que os índices de predictions_interval estejam alinhados com os dados reais\n",
    "predictions_interval.index = data_test_dates.index\n",
    "\n",
    "cobertura_por_bairro = {}\n",
    "\n",
    "for bairro in bairros:\n",
    "    # Filtrar valores reais e intervalos para o bairro específico\n",
    "    mask = data_test_dates[f'bairro_{bairro}'] == 1\n",
    "    \n",
    "    # Garantir que a máscara não esteja vazia\n",
    "    if mask.sum() == 0:\n",
    "        print(f\"Atenção: Nenhum dado encontrado para o bairro {bairro}.\")\n",
    "        cobertura_por_bairro[bairro] = None\n",
    "        continue\n",
    "\n",
    "    real_values = data_test_dates.loc[mask, 'dengueChikungunya']\n",
    "    lower_bound = predictions_interval.loc[mask, 'lower_bound']\n",
    "    upper_bound = predictions_interval.loc[mask, 'upper_bound']\n",
    "    \n",
    "    # Checando o alinhamento dos índices\n",
    "    if not real_values.index.equals(lower_bound.index):\n",
    "        print(f\"Desalinhamento de índices encontrado no bairro {bairro}. Realinhando os dados...\")\n",
    "        real_values = real_values.reindex(lower_bound.index)\n",
    "    \n",
    "    # Verificar se os valores reais estão dentro do intervalo de confiança\n",
    "    inside_interval = (real_values >= lower_bound) & (real_values <= upper_bound)\n",
    "    \n",
    "    # Calcular a cobertura como a proporção de valores reais dentro do intervalo\n",
    "    coverage = inside_interval.mean() * 100\n",
    "    \n",
    "    # Armazenar a cobertura\n",
    "    cobertura_por_bairro[bairro] = coverage\n",
    "\n",
    "# Exibir as coberturas por bairro\n",
    "for bairro, coverage in cobertura_por_bairro.items():\n",
    "    if coverage is not None:\n",
    "        print(f\"{bairro}: Cobertura do intervalo de confiança = {coverage:.2f}%\")\n",
    "    else:\n",
    "        print(f\"{bairro}: Cobertura do intervalo de confiança não calculada (dados ausentes).\")"
   ]
  },
  {
   "cell_type": "markdown",
   "id": "d0b75be2",
   "metadata": {},
   "source": [
    "# MAPIE"
   ]
  },
  {
   "cell_type": "code",
   "execution_count": 20,
   "id": "74468008",
   "metadata": {},
   "outputs": [],
   "source": [
    "# Inicialização MAPIE TimeSeriesRegressor\n",
    "mapie_ts = MapieTimeSeriesRegressor(estimator=forecaster.regressor, method=\"enbpi\")"
   ]
  },
  {
   "cell_type": "code",
   "execution_count": 21,
   "id": "b451effc",
   "metadata": {},
   "outputs": [],
   "source": [
    "# Fit MAPIE para train\n",
    "mapie_ts.fit(data_train_dates[exg], data_train_dates['dengueChikungunya'])\n",
    "\n",
    "# Predições com o intervalo\n",
    "predictions_mapie, intervals = mapie_ts.predict(data_test_dates[exg], alpha=0.1)"
   ]
  },
  {
   "cell_type": "code",
   "execution_count": 22,
   "id": "f3222aa0",
   "metadata": {},
   "outputs": [
    {
     "name": "stdout",
     "output_type": "stream",
     "text": [
      "Shape of intervals: (1050, 2)\n"
     ]
    }
   ],
   "source": [
    "# Certificando os intervalos com os formatos corretos\n",
    "intervals = np.squeeze(np.asarray(intervals))\n",
    "\n",
    "# Check the shape of intervals\n",
    "print(\"Shape of intervals:\", intervals.shape)"
   ]
  },
  {
   "cell_type": "code",
   "execution_count": 23,
   "id": "844cf998",
   "metadata": {},
   "outputs": [
    {
     "data": {
      "image/png": "[encoded data removed]",
      "text/plain": [
       "<Figure size 1000x600 with 1 Axes>"
      ]
     },
     "metadata": {},
     "output_type": "display_data"
    }
   ],
   "source": [
    "fig, ax = plt.subplots(figsize=(10, 6))\n",
    "\n",
    "data_train_dates['dengueChikungunya'].plot(ax=ax, label='Treino', color='blue', zorder=1)\n",
    "data_test_dates['dengueChikungunya'].plot(ax=ax, label='Teste', color='orange', zorder=2)\n",
    "\n",
    "ax.plot(data_test_dates.index, predictions_mapie, label='Previsão', color='green', zorder=3)\n",
    "\n",
    "if intervals.ndim == 2 and intervals.shape[1] == 2:\n",
    "    ax.fill_between(data_test_dates.index, np.maximum(intervals[:, 0], 0), intervals[:, 1], color='red', alpha=0.4, label='Intervalo de Confiança', zorder=4)\n",
    "\n",
    "ax.xaxis.set_major_locator(AutoDateLocator())\n",
    "ax.xaxis.set_major_formatter(DateFormatter('%Y'))\n",
    "handles, labels = ax.get_legend_handles_labels()\n",
    "ax.set_xlabel('')\n",
    "ax.legend(handles, labels, loc='upper right', fontsize='large')\n",
    "fig.autofmt_xdate()\n",
    "\n",
    "plt.show()"
   ]
  },
  {
   "cell_type": "code",
   "execution_count": 24,
   "id": "dc535f75",
   "metadata": {},
   "outputs": [
    {
     "name": "stdout",
     "output_type": "stream",
     "text": [
      "Test error (mse): 62.73645304761906\n"
     ]
    }
   ],
   "source": [
    "# Test error\n",
    "error_mse_mapie = mean_squared_error(data_test_dates['dengueChikungunya'], predictions_mapie)\n",
    "print(f\"Test error (mse): {error_mse_mapie}\")"
   ]
  },
  {
   "cell_type": "code",
   "execution_count": 25,
   "id": "4313f470",
   "metadata": {},
   "outputs": [
    {
     "name": "stdout",
     "output_type": "stream",
     "text": [
      "Cobertura do intervalo de confiança: 90.29%\n"
     ]
    }
   ],
   "source": [
    "# Certificando-se de que intervals tenha duas colunas para os limites inferior e superior\n",
    "if intervals.ndim == 2 and intervals.shape[1] == 2:\n",
    "    lower_bound = intervals[:, 0]\n",
    "    upper_bound = intervals[:, 1]\n",
    "\n",
    "    # Verificar alinhamento dos índices e fazer comparações\n",
    "    real_values = data_test_dates['dengueChikungunya'].reindex(data_test_dates.index)\n",
    "\n",
    "    # Verificar se os valores reais estão dentro do intervalo de confiança\n",
    "    inside_interval = (real_values >= lower_bound) & (real_values <= upper_bound)\n",
    "\n",
    "    # Calcular a cobertura como a proporção de valores reais dentro do intervalo\n",
    "    coverage = inside_interval.mean() * 100\n",
    "\n",
    "    print(f\"Cobertura do intervalo de confiança: {coverage:.2f}%\")\n",
    "else:\n",
    "    print(\"Os intervalos não estão no formato correto para o cálculo da cobertura.\")"
   ]
  },
  {
   "cell_type": "markdown",
   "id": "67971ad7",
   "metadata": {},
   "source": [
    "## Analise por Bairro - MAPIE"
   ]
  },
  {
   "cell_type": "code",
   "execution_count": 26,
   "id": "ec1f5fe3",
   "metadata": {},
   "outputs": [],
   "source": [
    "# Garantir que as previsões do MAPIE estejam alinhadas com o índice de datas\n",
    "predictions_mapie = pd.Series(predictions_mapie, index=data_test_dates.index)"
   ]
  },
  {
   "cell_type": "code",
   "execution_count": 27,
   "id": "65926eca",
   "metadata": {},
   "outputs": [],
   "source": [
    "# Definindo a lista de bairros conforme os nomes gerados pelo OneHotEncoder\n",
    "bairros = ['Botafogo', 'Cidade de Deus', 'Copacabana', 'Engenho de Dentro', \n",
    "           'Ipanema', 'Laranjeiras', 'Maracana', 'Realengo', 'Rocinha', 'Vila Militar']\n",
    "\n",
    "mse_por_bairro_mapie = {}"
   ]
  },
  {
   "cell_type": "code",
   "execution_count": 28,
   "id": "861152a4",
   "metadata": {},
   "outputs": [],
   "source": [
    "for bairro in bairros:\n",
    "    # Filtrando os valores reais e as previsões para o bairro específico\n",
    "    mask = data_test_dates[f'bairro_{bairro}'] == 1\n",
    "    real_values = data_test_dates.loc[mask, 'dengueChikungunya']\n",
    "    predicted_values = predictions_mapie.loc[mask]\n",
    "    \n",
    "    # Calcular o MSE para o bairro específico\n",
    "    mse = mean_squared_error(y_true=real_values, y_pred=predicted_values)\n",
    "    \n",
    "    mse_por_bairro_mapie[bairro] = mse"
   ]
  },
  {
   "cell_type": "code",
   "execution_count": 29,
   "id": "b250c30e",
   "metadata": {},
   "outputs": [
    {
     "name": "stdout",
     "output_type": "stream",
     "text": [
      "Botafogo: MSE = 9.87191904761905\n",
      "Cidade de Deus: MSE = 61.53401904761905\n",
      "Copacabana: MSE = 18.926734285714282\n",
      "Engenho de Dentro: MSE = 17.93322380952381\n",
      "Ipanema: MSE = 2.0919247619047616\n",
      "Laranjeiras: MSE = 2.1852933333333335\n",
      "Maracana: MSE = 3.2277761904761904\n",
      "Realengo: MSE = 487.0580400000001\n",
      "Rocinha: MSE = 23.52695238095238\n",
      "Vila Militar: MSE = 1.008647619047619\n"
     ]
    }
   ],
   "source": [
    "# Exibir os MSEs por bairro\n",
    "for bairro, mse in mse_por_bairro_mapie.items():\n",
    "    print(f\"{bairro}: MSE = {mse}\")"
   ]
  },
  {
   "cell_type": "code",
   "execution_count": 30,
   "id": "36d9cf9a",
   "metadata": {},
   "outputs": [
    {
     "name": "stdout",
     "output_type": "stream",
     "text": [
      "Botafogo: Cobertura do intervalo de confiança = 95.24%\n",
      "Cidade de Deus: Cobertura do intervalo de confiança = 71.43%\n",
      "Copacabana: Cobertura do intervalo de confiança = 89.52%\n",
      "Engenho de Dentro: Cobertura do intervalo de confiança = 90.48%\n",
      "Ipanema: Cobertura do intervalo de confiança = 100.00%\n",
      "Laranjeiras: Cobertura do intervalo de confiança = 100.00%\n",
      "Maracana: Cobertura do intervalo de confiança = 99.05%\n",
      "Realengo: Cobertura do intervalo de confiança = 66.67%\n",
      "Rocinha: Cobertura do intervalo de confiança = 90.48%\n",
      "Vila Militar: Cobertura do intervalo de confiança = 100.00%\n"
     ]
    }
   ],
   "source": [
    "# Garantir que os intervalos estejam alinhados com o índice de datas\n",
    "intervals_df = pd.DataFrame(intervals, columns=['lower_bound', 'upper_bound'], index=data_test_dates.index)\n",
    "\n",
    "cobertura_por_bairro_mapie = {}\n",
    "\n",
    "for bairro in bairros:\n",
    "    # Filtrando os valores reais e os intervalos para o bairro específico\n",
    "    mask = data_test_dates[f'bairro_{bairro}'] == 1\n",
    "    \n",
    "    # Garantir que a máscara não esteja vazia\n",
    "    if mask.sum() == 0:\n",
    "        print(f\"Atenção: Nenhum dado encontrado para o bairro {bairro}.\")\n",
    "        cobertura_por_bairro_mapie[bairro] = None\n",
    "        continue\n",
    "\n",
    "    real_values = data_test_dates.loc[mask, 'dengueChikungunya']\n",
    "    lower_bound = intervals_df.loc[mask, 'lower_bound']\n",
    "    upper_bound = intervals_df.loc[mask, 'upper_bound']\n",
    "    \n",
    "    # Alinhamento dos índices, se necessário\n",
    "    real_values = real_values.reindex(lower_bound.index)\n",
    "\n",
    "    # Verificar se os valores reais estão dentro do intervalo de confiança\n",
    "    inside_interval = (real_values >= lower_bound) & (real_values <= upper_bound)\n",
    "    \n",
    "    # Calcular a cobertura como a proporção de valores reais dentro do intervalo\n",
    "    coverage = inside_interval.mean() * 100\n",
    "    \n",
    "    cobertura_por_bairro_mapie[bairro] = coverage\n",
    "\n",
    "# Exibir as coberturas por bairro\n",
    "for bairro, coverage in cobertura_por_bairro_mapie.items():\n",
    "    if coverage is not None:\n",
    "        print(f\"{bairro}: Cobertura do intervalo de confiança = {coverage:.2f}%\")\n",
    "    else:\n",
    "        print(f\"{bairro}: Cobertura do intervalo de confiança não calculada (dados ausentes).\")\n"
   ]
  }
 ],
 "metadata": {
  "colab": {
   "provenance": []
  },
  "kernelspec": {
   "display_name": "Python 3 (ipykernel)",
   "language": "python",
   "name": "python3"
  },
  "language_info": {
   "codemirror_mode": {
    "name": "ipython",
    "version": 3
   },
   "file_extension": ".py",
   "mimetype": "text/x-python",
   "name": "python",
   "nbconvert_exporter": "python",
   "pygments_lexer": "ipython3",
   "version": "3.8.19"
  }
 },
 "nbformat": 4,
 "nbformat_minor": 5
}

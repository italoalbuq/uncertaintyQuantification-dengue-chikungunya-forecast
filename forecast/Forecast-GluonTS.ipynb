{
 "cells": [
  {
   "cell_type": "markdown",
   "id": "0e254724",
   "metadata": {},
   "source": [
    "# GLUONTS"
   ]
  },
  {
   "cell_type": "code",
   "execution_count": 1,
   "id": "2e7c224c",
   "metadata": {},
   "outputs": [
    {
     "name": "stderr",
     "output_type": "stream",
     "text": [
      "C:\\Users\\Italo\\AppData\\Roaming\\Python\\Python37\\site-packages\\gluonts\\json.py:102: UserWarning: Using `json`-module for json-handling. Consider installing one of `orjson`, `ujson` to speed up serialization and deserialization.\n",
      "  \"Using `json`-module for json-handling. \"\n"
     ]
    }
   ],
   "source": [
    "# IMPORTS\n",
    "import pandas as pd\n",
    "import numpy as np\n",
    "import session_info\n",
    "\n",
    "import matplotlib.pyplot as plt\n",
    "\n",
    "from sklearn.preprocessing import StandardScaler\n",
    "\n",
    "from gluonts.dataset.common import ListDataset\n",
    "from gluonts.mx.model.deepar import DeepAREstimator\n",
    "from gluonts.mx.trainer import Trainer\n",
    "from gluonts.evaluation.backtest import make_evaluation_predictions\n",
    "from gluonts.evaluation import Evaluator"
   ]
  },
  {
   "cell_type": "code",
   "execution_count": 2,
   "id": "1c67ff07",
   "metadata": {},
   "outputs": [],
   "source": [
    "# Leitura dos Dados\n",
    "\n",
    "df_bf = pd.read_excel('Botafogo-2015-2023_Semanal_Dengue.xlsx')\n",
    "df_cd = pd.read_excel('CidadeDeDeus-2015-2023_Semanal_Dengue.xlsx')\n",
    "df_cp = pd.read_excel('Copacabana-2015-2023_Semanal_Dengue.xlsx')\n",
    "df_ed = pd.read_excel('EngenhoDeDentro-2015-2023_Semanal_Dengue.xlsx')\n",
    "df_ip = pd.read_excel('Ipanema-2015-2023_Semanal_Dengue.xlsx')\n",
    "df_lj = pd.read_excel('Laranjeiras-2015-2023_Semanal_Dengue.xlsx')\n",
    "df_mc = pd.read_excel('Maracana-2015-2023_Semanal_Dengue.xlsx')\n",
    "df_rc = pd.read_excel('Rocinha-2015-2023_Semanal_Dengue.xlsx')\n",
    "df_vm = pd.read_excel('VilaMilitar-2015-2023_Semanal_Dengue.xlsx')\n",
    "df_rl = pd.read_excel('Realengo-2015-2023_Semanal_Dengue.xlsx')"
   ]
  },
  {
   "cell_type": "code",
   "execution_count": 3,
   "id": "adb40f42",
   "metadata": {},
   "outputs": [],
   "source": [
    "dataframes = [df_bf, df_cd, df_cp, df_ed, df_ip, df_lj, df_mc, df_rc, df_vm, df_rl]\n",
    "data = pd.concat(dataframes, ignore_index=False)"
   ]
  },
  {
   "cell_type": "code",
   "execution_count": 4,
   "id": "01f8fe6c",
   "metadata": {},
   "outputs": [],
   "source": [
    "data.set_index('data', inplace=True)"
   ]
  },
  {
   "cell_type": "code",
   "execution_count": 5,
   "id": "fe146fea",
   "metadata": {},
   "outputs": [],
   "source": [
    "# OneHotEncoding para a coluna 'bairro'\n",
    "data = pd.get_dummies(data, columns=['bairro'])"
   ]
  },
  {
   "cell_type": "code",
   "execution_count": 6,
   "id": "1c68855e",
   "metadata": {},
   "outputs": [],
   "source": [
    "# Substituir infinitos por NaN\n",
    "data.replace([np.inf, -np.inf], np.nan, inplace=True)\n",
    "\n",
    "# Checar e preencher valores NaN\n",
    "if data.isnull().any().any():\n",
    "    data.fillna(method='ffill', inplace=True)  # Preencher com o último valor válido"
   ]
  },
  {
   "cell_type": "code",
   "execution_count": 7,
   "id": "47b25558",
   "metadata": {},
   "outputs": [],
   "source": [
    "exg = ['chuva', 'temperaturaMedia', 'temperaturaMaxima','temperaturaMinima', 'direcaoVento', 'velocidadeVento', 'pressaoAtmosferica', 'semana',\n",
    "       'bairro_Botafogo', 'bairro_Cidade de Deus', 'bairro_Copacabana', 'bairro_Engenho de Dentro', 'bairro_Ipanema', 'bairro_Laranjeiras',\n",
    "       'bairro_Maracana', 'bairro_Realengo', 'bairro_Rocinha', 'bairro_Vila Militar']"
   ]
  },
  {
   "cell_type": "code",
   "execution_count": 8,
   "id": "46292a6d",
   "metadata": {},
   "outputs": [],
   "source": [
    "# Escalonamento dos dados (normalização)\n",
    "scaler = StandardScaler()\n",
    "\n",
    "data[exg] = scaler.fit_transform(data[exg].values)"
   ]
  },
  {
   "cell_type": "code",
   "execution_count": 9,
   "id": "90f5979f",
   "metadata": {},
   "outputs": [],
   "source": [
    "prediction_length = 105"
   ]
  },
  {
   "cell_type": "markdown",
   "id": "430bd8ff",
   "metadata": {},
   "source": [
    "## DENGUE E CHIKUNGUNYA"
   ]
  },
  {
   "cell_type": "code",
   "execution_count": 10,
   "id": "8fd66504",
   "metadata": {},
   "outputs": [],
   "source": [
    "# Preparar o conjunto de dados para treinamento\n",
    "training_data = ListDataset(\n",
    "    [{'start': data.index[0], 'target': data['dengueChikungunya'].to_numpy(), 'feat_dynamic_real': data[exg].T.to_numpy()}],\n",
    "    freq='W'\n",
    ")\n",
    "\n",
    "# Ajustar o índice de início para o conjunto de teste corretamente\n",
    "test_start_index = data.index[-prediction_length]\n",
    "\n",
    "# Preparar os dados de teste\n",
    "test_data = ListDataset(\n",
    "    [{'start': test_start_index, 'target': data['dengueChikungunya'][-prediction_length:].to_numpy(), 'feat_dynamic_real': data[exg][-prediction_length:].T.to_numpy()}],\n",
    "    freq='W'\n",
    ")"
   ]
  },
  {
   "cell_type": "code",
   "execution_count": 20,
   "id": "6f0a6bd6",
   "metadata": {},
   "outputs": [
    {
     "name": "stderr",
     "output_type": "stream",
     "text": [
      "100%|██████████| 50/50 [00:06<00:00,  7.32it/s, epoch=1/50, avg_epoch_loss=1.59]\n",
      "100%|██████████| 50/50 [00:06<00:00,  7.79it/s, epoch=2/50, avg_epoch_loss=1.26]\n",
      "100%|██████████| 50/50 [00:06<00:00,  7.78it/s, epoch=3/50, avg_epoch_loss=1.21]\n",
      "100%|██████████| 50/50 [00:06<00:00,  7.43it/s, epoch=4/50, avg_epoch_loss=0.983]\n",
      "100%|██████████| 50/50 [00:06<00:00,  7.21it/s, epoch=5/50, avg_epoch_loss=0.846]\n",
      "100%|██████████| 50/50 [00:06<00:00,  7.47it/s, epoch=6/50, avg_epoch_loss=0.884]\n",
      "100%|██████████| 50/50 [00:07<00:00,  6.90it/s, epoch=7/50, avg_epoch_loss=0.834]\n",
      "100%|██████████| 50/50 [00:06<00:00,  7.17it/s, epoch=8/50, avg_epoch_loss=0.713]\n",
      "100%|██████████| 50/50 [00:06<00:00,  7.54it/s, epoch=9/50, avg_epoch_loss=0.655]\n",
      "100%|██████████| 50/50 [00:06<00:00,  7.49it/s, epoch=10/50, avg_epoch_loss=0.62]\n",
      "100%|██████████| 50/50 [00:06<00:00,  7.32it/s, epoch=11/50, avg_epoch_loss=0.566]\n",
      "100%|██████████| 50/50 [00:07<00:00,  7.01it/s, epoch=12/50, avg_epoch_loss=0.561]\n",
      "100%|██████████| 50/50 [00:07<00:00,  7.13it/s, epoch=13/50, avg_epoch_loss=0.434]\n",
      "100%|██████████| 50/50 [00:06<00:00,  7.19it/s, epoch=14/50, avg_epoch_loss=0.502]\n",
      "100%|██████████| 50/50 [00:06<00:00,  7.16it/s, epoch=15/50, avg_epoch_loss=0.429]\n",
      "100%|██████████| 50/50 [00:07<00:00,  7.03it/s, epoch=16/50, avg_epoch_loss=0.369]\n",
      "100%|██████████| 50/50 [00:06<00:00,  7.17it/s, epoch=17/50, avg_epoch_loss=0.28]\n",
      "100%|██████████| 50/50 [00:06<00:00,  7.28it/s, epoch=18/50, avg_epoch_loss=0.232]\n",
      "100%|██████████| 50/50 [00:07<00:00,  7.11it/s, epoch=19/50, avg_epoch_loss=0.276]\n",
      "100%|██████████| 50/50 [00:07<00:00,  7.13it/s, epoch=20/50, avg_epoch_loss=0.345]\n",
      "100%|██████████| 50/50 [00:07<00:00,  7.08it/s, epoch=21/50, avg_epoch_loss=0.179]\n",
      "100%|██████████| 50/50 [00:07<00:00,  7.05it/s, epoch=22/50, avg_epoch_loss=0.221]\n",
      "100%|██████████| 50/50 [00:06<00:00,  7.24it/s, epoch=23/50, avg_epoch_loss=0.136]\n",
      "100%|██████████| 50/50 [00:06<00:00,  7.31it/s, epoch=24/50, avg_epoch_loss=0.188]\n",
      "100%|██████████| 50/50 [00:06<00:00,  7.21it/s, epoch=25/50, avg_epoch_loss=0.136]\n",
      "100%|██████████| 50/50 [00:06<00:00,  7.29it/s, epoch=26/50, avg_epoch_loss=0.0558]\n",
      "100%|██████████| 50/50 [00:06<00:00,  7.18it/s, epoch=27/50, avg_epoch_loss=-0.0854]\n",
      "100%|██████████| 50/50 [00:07<00:00,  6.97it/s, epoch=28/50, avg_epoch_loss=0.0484]\n",
      "100%|██████████| 50/50 [00:06<00:00,  7.20it/s, epoch=29/50, avg_epoch_loss=0.0418]\n",
      "100%|██████████| 50/50 [00:07<00:00,  7.03it/s, epoch=30/50, avg_epoch_loss=0.0227]\n",
      "100%|██████████| 50/50 [00:06<00:00,  7.19it/s, epoch=31/50, avg_epoch_loss=0.0881]\n",
      "100%|██████████| 50/50 [00:06<00:00,  7.17it/s, epoch=32/50, avg_epoch_loss=-0.176]\n",
      "100%|██████████| 50/50 [00:07<00:00,  6.92it/s, epoch=33/50, avg_epoch_loss=-0.0482]\n",
      "100%|██████████| 50/50 [00:07<00:00,  7.01it/s, epoch=34/50, avg_epoch_loss=0.0553]\n",
      "100%|██████████| 50/50 [00:07<00:00,  6.87it/s, epoch=35/50, avg_epoch_loss=-0.122]\n",
      "100%|██████████| 50/50 [00:07<00:00,  6.83it/s, epoch=36/50, avg_epoch_loss=-0.115]\n",
      "100%|██████████| 50/50 [00:06<00:00,  7.25it/s, epoch=37/50, avg_epoch_loss=-0.0441]\n",
      "100%|██████████| 50/50 [00:07<00:00,  7.00it/s, epoch=38/50, avg_epoch_loss=-0.12]\n",
      "100%|██████████| 50/50 [00:07<00:00,  7.12it/s, epoch=39/50, avg_epoch_loss=-0.00878]\n",
      "100%|██████████| 50/50 [00:07<00:00,  7.04it/s, epoch=40/50, avg_epoch_loss=-0.26]\n",
      "100%|██████████| 50/50 [00:06<00:00,  7.27it/s, epoch=41/50, avg_epoch_loss=-0.102]\n",
      "100%|██████████| 50/50 [00:06<00:00,  7.18it/s, epoch=42/50, avg_epoch_loss=-0.243]\n",
      "100%|██████████| 50/50 [00:06<00:00,  7.25it/s, epoch=43/50, avg_epoch_loss=-0.0168]\n",
      "100%|██████████| 50/50 [00:06<00:00,  7.19it/s, epoch=44/50, avg_epoch_loss=-0.24]\n",
      "100%|██████████| 50/50 [00:07<00:00,  7.13it/s, epoch=45/50, avg_epoch_loss=-0.141]\n",
      "100%|██████████| 50/50 [00:07<00:00,  6.85it/s, epoch=46/50, avg_epoch_loss=-0.23]\n",
      "100%|██████████| 50/50 [00:06<00:00,  7.26it/s, epoch=47/50, avg_epoch_loss=-0.184]\n",
      "100%|██████████| 50/50 [00:07<00:00,  7.14it/s, epoch=48/50, avg_epoch_loss=-0.0724]\n",
      "100%|██████████| 50/50 [00:07<00:00,  6.89it/s, epoch=49/50, avg_epoch_loss=-0.209]\n",
      "100%|██████████| 50/50 [00:07<00:00,  7.09it/s, epoch=50/50, avg_epoch_loss=-0.391]\n"
     ]
    }
   ],
   "source": [
    "# Configuração do Estimator\n",
    "estimator = DeepAREstimator(\n",
    "    freq='W',\n",
    "    prediction_length=12,\n",
    "    trainer=Trainer(epochs=50),\n",
    "    use_feat_dynamic_real=True,\n",
    "    cell_type ='lstm'\n",
    ")\n",
    "\n",
    "# Treinamento do modelo\n",
    "predictor = estimator.train(training_data=training_data)"
   ]
  },
  {
   "cell_type": "code",
   "execution_count": 21,
   "id": "653a8c56",
   "metadata": {},
   "outputs": [],
   "source": [
    "# Previsão\n",
    "forecast_it, ts_it = make_evaluation_predictions(\n",
    "    dataset=test_data,  # Conjunto de dados de teste\n",
    "    predictor=predictor,  # Modelo treinado\n",
    "    num_samples=100  # Número de amostras para a geração de previsões\n",
    ")\n",
    "\n",
    "forecasts = list(forecast_it)\n",
    "tss = list(ts_it)  # valores verdadeiros do conjunto de teste"
   ]
  },
  {
   "cell_type": "code",
   "execution_count": 22,
   "id": "949c42ec",
   "metadata": {},
   "outputs": [
    {
     "data": {
      "text/plain": [
       "<Figure size 1000x500 with 0 Axes>"
      ]
     },
     "metadata": {},
     "output_type": "display_data"
    },
    {
     "data": {
      "image/png": "[encoded data removed]",
      "text/plain": [
       "<Figure size 640x480 with 1 Axes>"
      ]
     },
     "metadata": {},
     "output_type": "display_data"
    }
   ],
   "source": [
    "def plot_forecasts(ts_entry, forecast_entry):\n",
    "    plt.figure(figsize=(10, 5))\n",
    "    # Plot dos valores observados\n",
    "    ts_entry.plot(label='_nolegend_')\n",
    "    \n",
    "    # Obtenção das previsões e intervalos de confiança\n",
    "    prediction_mean = forecast_entry.mean_ts\n",
    "\n",
    "    prediction_mean.plot(label='Previsão', color='r')\n",
    "    \n",
    "    plt.fill_between(\n",
    "        prediction_mean.index,\n",
    "        forecast_entry.quantile(0.05),\n",
    "        forecast_entry.quantile(0.95), \n",
    "        color='r',\n",
    "        alpha=0.3,\n",
    "        label='Intervalo de Confiança 90%'\n",
    "    )\n",
    "    \n",
    "    plt.legend(['Valores Reais', 'Previsão', 'Intervalo de Confiança'], loc='upper left')\n",
    "    \n",
    "    plt.ylim(bottom=0)\n",
    "    plt.grid(True)\n",
    "    plt.show()\n",
    "\n",
    "plot_forecasts(tss[0], forecasts[0])\n"
   ]
  },
  {
   "cell_type": "code",
   "execution_count": 23,
   "id": "2821325b",
   "metadata": {},
   "outputs": [
    {
     "name": "stderr",
     "output_type": "stream",
     "text": [
      "Running evaluation: 1it [00:00, 99.99it/s]"
     ]
    },
    {
     "name": "stdout",
     "output_type": "stream",
     "text": [
      "Métricas agregadas: {'MSE': 23.970062255859375, 'abs_error': 38.50530242919922, 'abs_target_sum': 103.0, 'abs_target_mean': 8.583333333333334, 'seasonal_error': 2.5543478260869565, 'MASE': 1.2562013558462155, 'MAPE': 0.2781375538219105, 'sMAPE': 0.45230603218078613, 'MSIS': 13.361503958194813, 'QuantileLoss[0.5]': 38.5053014755249, 'Coverage[0.5]': 0.25, 'RMSE': 4.895923023890324, 'NRMSE': 0.5703987988998436, 'ND': 0.37383788766212833, 'wQuantileLoss[0.5]': 0.3738378784031544, 'mean_absolute_QuantileLoss': 38.5053014755249, 'mean_wQuantileLoss': 0.3738378784031544, 'MAE_Coverage': 0.25, 'OWA': nan}\n",
      "Mean Squared Error (MSE): 23.970062255859375\n"
     ]
    },
    {
     "name": "stderr",
     "output_type": "stream",
     "text": [
      "\n"
     ]
    }
   ],
   "source": [
    "# Avaliação do modelo usando a mediana das previsões\n",
    "evaluator = Evaluator(quantiles=[0.5]) \n",
    "\n",
    "agg_metrics, item_metrics = evaluator(iter(tss), iter(forecasts))\n",
    "\n",
    "# Métricas agregadas\n",
    "print(\"Métricas agregadas:\", agg_metrics)\n",
    "\n",
    "# Métrica específica: MSE\n",
    "mse = agg_metrics[\"MSE\"]\n",
    "print(\"Mean Squared Error (MSE):\", mse)"
   ]
  },
  {
   "cell_type": "markdown",
   "id": "e7dbb2f5",
   "metadata": {},
   "source": [
    "# info"
   ]
  },
  {
   "cell_type": "code",
   "execution_count": 15,
   "id": "0bef2f75",
   "metadata": {},
   "outputs": [
    {
     "name": "stdout",
     "output_type": "stream",
     "text": [
      "-----\n",
      "gluonts             0.13.9\n",
      "matplotlib          3.5.3\n",
      "numpy               1.21.6\n",
      "pandas              1.2.5\n",
      "session_info        1.0.0\n",
      "sklearn             1.0.2\n",
      "-----\n",
      "IPython             7.34.0\n",
      "jupyter_client      7.4.9\n",
      "jupyter_core        4.12.0\n",
      "-----\n",
      "Python 3.7.16 (default, Jan 17 2023, 16:06:28) [MSC v.1916 64 bit (AMD64)]\n",
      "Windows-10-10.0.19041-SP0\n",
      "-----\n",
      "Session information updated at 2024-08-23 16:32\n"
     ]
    }
   ],
   "source": [
    "session_info.show(html=False)"
   ]
  }
 ],
 "metadata": {
  "colab": {
   "provenance": []
  },
  "kernelspec": {
   "display_name": "Python 3 (ipykernel)",
   "language": "python",
   "name": "python3"
  },
  "language_info": {
   "codemirror_mode": {
    "name": "ipython",
    "version": 3
   },
   "file_extension": ".py",
   "mimetype": "text/x-python",
   "name": "python",
   "nbconvert_exporter": "python",
   "pygments_lexer": "ipython3",
   "version": "3.7.16"
  }
 },
 "nbformat": 4,
 "nbformat_minor": 5
}
